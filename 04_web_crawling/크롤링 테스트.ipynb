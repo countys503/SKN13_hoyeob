{
 "cells": [
  {
   "cell_type": "code",
   "execution_count": 1,
   "id": "957a9f1d-4607-49d2-b801-7aeff3ce0ec5",
   "metadata": {},
   "outputs": [
    {
     "name": "stdout",
     "output_type": "stream",
     "text": [
      "Requirement already satisfied: requests in c:\\users\\mycom\\miniconda3\\lib\\site-packages (2.32.3)\n",
      "Requirement already satisfied: beautifulsoup4 in c:\\users\\mycom\\miniconda3\\lib\\site-packages (4.13.3)\n",
      "Requirement already satisfied: charset-normalizer<4,>=2 in c:\\users\\mycom\\miniconda3\\lib\\site-packages (from requests) (3.3.2)\n",
      "Requirement already satisfied: idna<4,>=2.5 in c:\\users\\mycom\\miniconda3\\lib\\site-packages (from requests) (3.7)\n",
      "Requirement already satisfied: urllib3<3,>=1.21.1 in c:\\users\\mycom\\miniconda3\\lib\\site-packages (from requests) (2.3.0)\n",
      "Requirement already satisfied: certifi>=2017.4.17 in c:\\users\\mycom\\miniconda3\\lib\\site-packages (from requests) (2025.1.31)\n",
      "Requirement already satisfied: soupsieve>1.2 in c:\\users\\mycom\\miniconda3\\lib\\site-packages (from beautifulsoup4) (2.6)\n",
      "Requirement already satisfied: typing-extensions>=4.0.0 in c:\\users\\mycom\\miniconda3\\lib\\site-packages (from beautifulsoup4) (4.12.2)\n",
      "Note: you may need to restart the kernel to use updated packages.\n"
     ]
    }
   ],
   "source": [
    "pip install requests beautifulsoup4"
   ]
  },
  {
   "cell_type": "code",
   "execution_count": 3,
   "id": "0c9b612d-cfe4-48e9-af1a-98823140a2eb",
   "metadata": {},
   "outputs": [
    {
     "name": "stdout",
     "output_type": "stream",
     "text": [
      "{'resultCode': '00', 'resultMsg': 'NORMAL_CODE', 'items': {'item': [{'std_year': '2023', 'sido_sgg_nm': '서울특별시 금천구', 'acc_cl_nm': '전체사고', 'acc_cnt': '876', 'acc_cnt_cmrt': '0.44', 'dth_dnv_cnt': '7', 'dth_dnv_cnt_cmrt': '0.27', 'ftlt_rate': '0.80', 'injpsn_cnt': '1232', 'injpsn_cnt_cmrt': '0.43', 'tot_acc_cnt': '198296', 'tot_dth_dnv_cnt': '2551', 'tot_injpsn_cnt': '283799', 'pop_100k': '363.33', 'car_10k': '82.63', 'cnt_027_01': '0', 'cnt_027_02': '18', 'cnt_027_03': '120', 'cnt_027_04': '75', 'cnt_027_05': '559', 'cnt_027_06': '11', 'cnt_027_07': '43', 'cnt_027_99': '50', 'cnt_014_01': '225', 'cnt_014_02': '599', 'cnt_014_03': '52', 'cnt_014_04': '0'}, {'std_year': '2023', 'sido_sgg_nm': '서울특별시 금천구', 'acc_cl_nm': '어린이사고', 'acc_cnt': '34', 'acc_cnt_cmrt': '0.39', 'dth_dnv_cnt': '0', 'dth_dnv_cnt_cmrt': '0.00', 'ftlt_rate': '0.00', 'injpsn_cnt': '39', 'injpsn_cnt_cmrt': '0.36', 'tot_acc_cnt': '8753', 'tot_dth_dnv_cnt': '14', 'tot_injpsn_cnt': '10910'}, {'std_year': '2023', 'sido_sgg_nm': '서울특별시 금천구', 'acc_cl_nm': '고령자사고', 'acc_cnt': '170', 'acc_cnt_cmrt': '0.44', 'dth_dnv_cnt': '4', 'dth_dnv_cnt_cmrt': '0.32', 'ftlt_rate': '2.35', 'injpsn_cnt': '184', 'injpsn_cnt_cmrt': '0.43', 'tot_acc_cnt': '38960', 'tot_dth_dnv_cnt': '1240', 'tot_injpsn_cnt': '43005'}, {'std_year': '2023', 'sido_sgg_nm': '서울특별시 금천구', 'acc_cl_nm': '보행자사고', 'acc_cnt': '229', 'acc_cnt_cmrt': '0.61', 'dth_dnv_cnt': '3', 'dth_dnv_cnt_cmrt': '0.34', 'ftlt_rate': '1.31', 'injpsn_cnt': '235', 'injpsn_cnt_cmrt': '0.62', 'tot_acc_cnt': '37324', 'tot_dth_dnv_cnt': '886', 'tot_injpsn_cnt': '37899'}, {'std_year': '2023', 'sido_sgg_nm': '서울특별시 금천구', 'acc_cl_nm': '자전거사고', 'acc_cnt': '38', 'acc_cnt_cmrt': '0.74', 'dth_dnv_cnt': '0', 'dth_dnv_cnt_cmrt': '0.00', 'ftlt_rate': '0.00', 'injpsn_cnt': '46', 'injpsn_cnt_cmrt': '0.82', 'tot_acc_cnt': '5146', 'tot_dth_dnv_cnt': '64', 'tot_injpsn_cnt': '5604'}, {'std_year': '2023', 'sido_sgg_nm': '서울특별시 금천구', 'acc_cl_nm': '야간사고', 'acc_cnt': '354', 'acc_cnt_cmrt': '0.49', 'dth_dnv_cnt': '4', 'dth_dnv_cnt_cmrt': '0.35', 'ftlt_rate': '1.13', 'injpsn_cnt': '514', 'injpsn_cnt_cmrt': '0.51', 'tot_acc_cnt': '71809', 'tot_dth_dnv_cnt': '1149', 'tot_injpsn_cnt': '101523'}, {'std_year': '2023', 'sido_sgg_nm': '서울특별시 금천구', 'acc_cl_nm': '어린이보행사고', 'acc_cnt': '13', 'acc_cnt_cmrt': '0.50', 'dth_dnv_cnt': '0', 'dth_dnv_cnt_cmrt': '0.00', 'ftlt_rate': '0.00', 'injpsn_cnt': '13', 'injpsn_cnt_cmrt': '0.48', 'tot_acc_cnt': '2624', 'tot_dth_dnv_cnt': '12', 'tot_injpsn_cnt': '2694'}, {'std_year': '2023', 'sido_sgg_nm': '서울특별시 금천구', 'acc_cl_nm': '스쿨존내어린이사고', 'acc_cnt': '3', 'acc_cnt_cmrt': '0.62', 'dth_dnv_cnt': '0', 'dth_dnv_cnt_cmrt': '0.00', 'ftlt_rate': '0.00', 'injpsn_cnt': '3', 'injpsn_cnt_cmrt': '0.57', 'tot_acc_cnt': '486', 'tot_dth_dnv_cnt': '2', 'tot_injpsn_cnt': '523'}, {'std_year': '2023', 'sido_sgg_nm': '서울특별시 금천구', 'acc_cl_nm': '고령운전자사고', 'acc_cnt': '145', 'acc_cnt_cmrt': '0.37', 'dth_dnv_cnt': '2', 'dth_dnv_cnt_cmrt': '0.27', 'ftlt_rate': '1.38', 'injpsn_cnt': '205', 'injpsn_cnt_cmrt': '0.37', 'tot_acc_cnt': '39614', 'tot_dth_dnv_cnt': '745', 'tot_injpsn_cnt': '56067'}, {'std_year': '2023', 'sido_sgg_nm': '서울특별시 금천구', 'acc_cl_nm': '고령보행자사고', 'acc_cnt': '74', 'acc_cnt_cmrt': '0.68', 'dth_dnv_cnt': '2', 'dth_dnv_cnt_cmrt': '0.36', 'ftlt_rate': '2.70', 'injpsn_cnt': '73', 'injpsn_cnt_cmrt': '0.69', 'tot_acc_cnt': '10921', 'tot_dth_dnv_cnt': '550', 'tot_injpsn_cnt': '10529'}, {'std_year': '2023', 'sido_sgg_nm': '서울특별시 금천구', 'acc_cl_nm': '개인형이동수단(PM)사고', 'acc_cnt': '15', 'acc_cnt_cmrt': '0.63', 'dth_dnv_cnt': '0', 'dth_dnv_cnt_cmrt': '0.00', 'ftlt_rate': '0.00', 'injpsn_cnt': '19', 'injpsn_cnt_cmrt': '0.72', 'tot_acc_cnt': '2389', 'tot_dth_dnv_cnt': '24', 'tot_injpsn_cnt': '2622'}, {'std_year': '2023', 'sido_sgg_nm': '서울특별시 금천구', 'acc_cl_nm': '뺑소니사고', 'acc_cnt': '18', 'acc_cnt_cmrt': '0.27', 'dth_dnv_cnt': '0', 'dth_dnv_cnt_cmrt': '0.00', 'ftlt_rate': '0.00', 'injpsn_cnt': '25', 'injpsn_cnt_cmrt': '0.28', 'tot_acc_cnt': '6677', 'tot_dth_dnv_cnt': '64', 'tot_injpsn_cnt': '9084'}, {'std_year': '2023', 'sido_sgg_nm': '서울특별시 금천구', 'acc_cl_nm': '무면허사고', 'acc_cnt': '22', 'acc_cnt_cmrt': '0.43', 'dth_dnv_cnt': '0', 'dth_dnv_cnt_cmrt': '0.00', 'ftlt_rate': '0.00', 'injpsn_cnt': '28', 'injpsn_cnt_cmrt': '0.41', 'tot_acc_cnt': '5165', 'tot_dth_dnv_cnt': '122', 'tot_injpsn_cnt': '6897'}]}, 'totalCount': 13, 'numOfRows': 13, 'pageNo': 1}\n",
      "item\n"
     ]
    }
   ],
   "source": [
    "import requests\n",
    "\n",
    "# 실제 발급받은 인증키로 바꿔주세요\n",
    "auth_key = 'C3Gb%2FsG9KnltecJkTwW%2Bh6%2Fxs5nvt%2Bz9u4AVYrfUzpSYazLP6SOkww6NFI9sH9jK'\n",
    "url = f'https://opendata.koroad.or.kr/data/rest/stt?authKey={auth_key}&searchYearCd=2023&sido=1100&guGun=1125&type=json'\n",
    "\n",
    "response = requests.get(url)\n",
    "\n",
    "# 응답 확인\n",
    "if response.status_code == 200:\n",
    "    data = response.json()\n",
    "    print(data)  # 전체 데이터 출력\n",
    "\n",
    "    # 예: 특정 값만 출력해보기\n",
    "    if 'items' in data:\n",
    "        for item in data['items']:\n",
    "            print(item)\n",
    "else:\n",
    "    print(f'에러 발생: {response.status_code}')\n"
   ]
  },
  {
   "cell_type": "code",
   "execution_count": 14,
   "id": "e9c5fd1c-151f-454b-9cce-65498b25f44d",
   "metadata": {},
   "outputs": [
    {
     "name": "stdout",
     "output_type": "stream",
     "text": [
      "{\n",
      "  \"resultCode\": \"00\",\n",
      "  \"resultMsg\": \"NORMAL_CODE\",\n",
      "  \"items\": {\n",
      "    \"item\": []\n",
      "  },\n",
      "  \"totalCount\": 13,\n",
      "  \"numOfRows\": 13,\n",
      "  \"pageNo\": 1\n",
      "}\n"
     ]
    }
   ],
   "source": [
    "import json\n",
    "\n",
    "# response.json() 등에서 받은 데이터라고 가정\n",
    "data = {\n",
    "    'resultCode': '00',\n",
    "    'resultMsg': 'NORMAL_CODE',\n",
    "    'items': {\n",
    "        'item': [\n",
    "            # ...중략...\n",
    "        ]\n",
    "    },\n",
    "    'totalCount': 13,\n",
    "    'numOfRows': 13,\n",
    "    'pageNo': 1\n",
    "}\n",
    "\n",
    "# 보기 좋게 출력\n",
    "print(json.dumps(data, indent=2, ensure_ascii=False))\n"
   ]
  },
  {
   "cell_type": "code",
   "execution_count": 4,
   "id": "89e32141-580f-4f85-9623-694519bc27b7",
   "metadata": {},
   "outputs": [
    {
     "name": "stdout",
     "output_type": "stream",
     "text": [
      "🛑 사고유형: 전체사고\n",
      "   - 발생건수: 876건\n",
      "   - 사망자수: 7명\n",
      "   - 부상자수: 1232명\n",
      "   - 치명률: 0.80%\n",
      "\n",
      "🛑 사고유형: 어린이사고\n",
      "   - 발생건수: 34건\n",
      "   - 사망자수: 0명\n",
      "   - 부상자수: 39명\n",
      "   - 치명률: 0.00%\n",
      "\n",
      "🛑 사고유형: 고령자사고\n",
      "   - 발생건수: 170건\n",
      "   - 사망자수: 4명\n",
      "   - 부상자수: 184명\n",
      "   - 치명률: 2.35%\n",
      "\n",
      "🛑 사고유형: 보행자사고\n",
      "   - 발생건수: 229건\n",
      "   - 사망자수: 3명\n",
      "   - 부상자수: 235명\n",
      "   - 치명률: 1.31%\n",
      "\n",
      "🛑 사고유형: 자전거사고\n",
      "   - 발생건수: 38건\n",
      "   - 사망자수: 0명\n",
      "   - 부상자수: 46명\n",
      "   - 치명률: 0.00%\n",
      "\n",
      "🛑 사고유형: 야간사고\n",
      "   - 발생건수: 354건\n",
      "   - 사망자수: 4명\n",
      "   - 부상자수: 514명\n",
      "   - 치명률: 1.13%\n",
      "\n",
      "🛑 사고유형: 어린이보행사고\n",
      "   - 발생건수: 13건\n",
      "   - 사망자수: 0명\n",
      "   - 부상자수: 13명\n",
      "   - 치명률: 0.00%\n",
      "\n",
      "🛑 사고유형: 스쿨존내어린이사고\n",
      "   - 발생건수: 3건\n",
      "   - 사망자수: 0명\n",
      "   - 부상자수: 3명\n",
      "   - 치명률: 0.00%\n",
      "\n",
      "🛑 사고유형: 고령운전자사고\n",
      "   - 발생건수: 145건\n",
      "   - 사망자수: 2명\n",
      "   - 부상자수: 205명\n",
      "   - 치명률: 1.38%\n",
      "\n",
      "🛑 사고유형: 고령보행자사고\n",
      "   - 발생건수: 74건\n",
      "   - 사망자수: 2명\n",
      "   - 부상자수: 73명\n",
      "   - 치명률: 2.70%\n",
      "\n",
      "🛑 사고유형: 개인형이동수단(PM)사고\n",
      "   - 발생건수: 15건\n",
      "   - 사망자수: 0명\n",
      "   - 부상자수: 19명\n",
      "   - 치명률: 0.00%\n",
      "\n",
      "🛑 사고유형: 뺑소니사고\n",
      "   - 발생건수: 18건\n",
      "   - 사망자수: 0명\n",
      "   - 부상자수: 25명\n",
      "   - 치명률: 0.00%\n",
      "\n",
      "🛑 사고유형: 무면허사고\n",
      "   - 발생건수: 22건\n",
      "   - 사망자수: 0명\n",
      "   - 부상자수: 28명\n",
      "   - 치명률: 0.00%\n",
      "\n"
     ]
    }
   ],
   "source": [
    "items = data['items']['item']\n",
    "\n",
    "for entry in items:\n",
    "    print(f\"🛑 사고유형: {entry['acc_cl_nm']}\")\n",
    "    print(f\"   - 발생건수: {entry['acc_cnt']}건\")\n",
    "    print(f\"   - 사망자수: {entry['dth_dnv_cnt']}명\")\n",
    "    print(f\"   - 부상자수: {entry['injpsn_cnt']}명\")\n",
    "    print(f\"   - 치명률: {entry['ftlt_rate']}%\\n\")\n"
   ]
  },
  {
   "cell_type": "code",
   "execution_count": 5,
   "id": "4481f32f-91e2-41ae-acfb-9ea992f47785",
   "metadata": {},
   "outputs": [
    {
     "name": "stdout",
     "output_type": "stream",
     "text": [
      "✅ CSV 파일 저장 완료!\n"
     ]
    }
   ],
   "source": [
    "import csv\n",
    "\n",
    "# JSON에서 item 목록 추출\n",
    "items = data.get('items', {}).get('item', [])\n",
    "\n",
    "# 비어있는 경우 방어 코드\n",
    "if not items:\n",
    "    print(\"🚫 항목이 없습니다! 저장할 데이터가 없어요.\")\n",
    "else:\n",
    "    # CSV로 저장\n",
    "    with open('accident_data.csv', 'w', newline='', encoding='utf-8') as f:\n",
    "        writer = csv.DictWriter(f, fieldnames=items[0].keys())\n",
    "        writer.writeheader()\n",
    "        writer.writerows(items)\n",
    "\n",
    "    print(\"✅ CSV 파일 저장 완료!\")\n"
   ]
  },
  {
   "cell_type": "code",
   "execution_count": 18,
   "id": "4e641a0c-ed95-4a80-bcc6-1aad1c7a52c7",
   "metadata": {},
   "outputs": [
    {
     "ename": "ModuleNotFoundError",
     "evalue": "No module named 'pandas'",
     "output_type": "error",
     "traceback": [
      "\u001b[31m---------------------------------------------------------------------------\u001b[39m",
      "\u001b[31mModuleNotFoundError\u001b[39m                       Traceback (most recent call last)",
      "\u001b[36mCell\u001b[39m\u001b[36m \u001b[39m\u001b[32mIn[18]\u001b[39m\u001b[32m, line 1\u001b[39m\n\u001b[32m----> \u001b[39m\u001b[32m1\u001b[39m \u001b[38;5;28;01mimport\u001b[39;00m \u001b[34;01mpandas\u001b[39;00m \u001b[38;5;28;01mas\u001b[39;00m \u001b[34;01mpd\u001b[39;00m\n\u001b[32m      3\u001b[39m df = pd.read_csv(\u001b[33m'\u001b[39m\u001b[33maccident_data.csv\u001b[39m\u001b[33m'\u001b[39m)\n\u001b[32m      4\u001b[39m \u001b[38;5;28mprint\u001b[39m(df.head())\n",
      "\u001b[31mModuleNotFoundError\u001b[39m: No module named 'pandas'"
     ]
    }
   ],
   "source": [
    "import pandas as pd\n",
    "\n",
    "df = pd.read_csv('accident_data.csv')\n",
    "print(df.head())\n"
   ]
  }
 ],
 "metadata": {
  "kernelspec": {
   "display_name": "Python 3 (ipykernel)",
   "language": "python",
   "name": "python3"
  },
  "language_info": {
   "codemirror_mode": {
    "name": "ipython",
    "version": 3
   },
   "file_extension": ".py",
   "mimetype": "text/x-python",
   "name": "python",
   "nbconvert_exporter": "python",
   "pygments_lexer": "ipython3",
   "version": "3.12.9"
  }
 },
 "nbformat": 4,
 "nbformat_minor": 5
}
