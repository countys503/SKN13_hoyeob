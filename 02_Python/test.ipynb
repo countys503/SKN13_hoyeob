{
 "cells": [
  {
   "cell_type": "code",
   "execution_count": 1,
   "id": "7b8b7cb8-962e-4f61-9476-3631b4905507",
   "metadata": {},
   "outputs": [
    {
     "data": {
      "text/plain": [
       "2"
      ]
     },
     "execution_count": 1,
     "metadata": {},
     "output_type": "execute_result"
    }
   ],
   "source": [
    "# shift + enter: 실행 후 다음 cell로 이동\n",
    "# control + enter: 실행 후 그 ell에 머물러 있는다.\n",
    "1 + 1"
   ]
  },
  {
   "cell_type": "markdown",
   "id": "0bdddf0a-248e-421f-864c-dbb8e831772a",
   "metadata": {},
   "source": [
    "# 명령 모드\n",
    "- a: 위에 빈 cell을 추가, b: 아래 빈 cell을 추가\n",
    "- x: cell을 짤라내기\n",
    "- v: cell을 붙여 넣기\n",
    "- dd: cell 삭제\n",
    "- y: cell을 **코드모드**로 변경\n",
    "- m: cell을 *마크다운*로 변경"
   ]
  },
  {
   "cell_type": "code",
   "execution_count": null,
   "id": "f56ff98f-b5d5-4d34-be59-b1c44a0657e6",
   "metadata": {},
   "outputs": [],
   "source": []
  },
  {
   "cell_type": "code",
   "execution_count": null,
   "id": "01e63f3b-e445-4d5a-9275-c174a40976cf",
   "metadata": {},
   "outputs": [],
   "source": []
  }
 ],
 "metadata": {
  "kernelspec": {
   "display_name": "Python 3 (ipykernel)",
   "language": "python",
   "name": "python3"
  },
  "language_info": {
   "codemirror_mode": {
    "name": "ipython",
    "version": 3
   },
   "file_extension": ".py",
   "mimetype": "text/x-python",
   "name": "python",
   "nbconvert_exporter": "python",
   "pygments_lexer": "ipython3",
   "version": "3.12.9"
  }
 },
 "nbformat": 4,
 "nbformat_minor": 5
}
